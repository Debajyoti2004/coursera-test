{
  "nbformat": 4,
  "nbformat_minor": 0,
  "metadata": {
    "colab": {
      "provenance": [],
      "gpuType": "T4",
      "authorship_tag": "ABX9TyNWBMyIYF4+iSfvSIq/CSOz",
      "include_colab_link": true
    },
    "kernelspec": {
      "name": "python3",
      "display_name": "Python 3"
    },
    "language_info": {
      "name": "python"
    },
    "accelerator": "GPU"
  },
  "cells": [
    {
      "cell_type": "markdown",
      "metadata": {
        "id": "view-in-github",
        "colab_type": "text"
      },
      "source": [
        "<a href=\"https://colab.research.google.com/github/Debajyoti2004/coursera-test/blob/main/Create_Word_vector(embedding_vector_from_scratch).ipynb\" target=\"_parent\"><img src=\"https://colab.research.google.com/assets/colab-badge.svg\" alt=\"Open In Colab\"/></a>"
      ]
    },
    {
      "cell_type": "code",
      "execution_count": 1,
      "metadata": {
        "colab": {
          "base_uri": "https://localhost:8080/",
          "height": 74
        },
        "id": "d0GQVnBYOntl",
        "outputId": "8926b140-e048-4b7b-dc97-756a7eaa88d8"
      },
      "outputs": [
        {
          "output_type": "display_data",
          "data": {
            "text/plain": [
              "<IPython.core.display.HTML object>"
            ],
            "text/html": [
              "\n",
              "     <input type=\"file\" id=\"files-040a1ab1-81fa-467f-9912-4605277f3f9c\" name=\"files[]\" multiple disabled\n",
              "        style=\"border:none\" />\n",
              "     <output id=\"result-040a1ab1-81fa-467f-9912-4605277f3f9c\">\n",
              "      Upload widget is only available when the cell has been executed in the\n",
              "      current browser session. Please rerun this cell to enable.\n",
              "      </output>\n",
              "      <script>// Copyright 2017 Google LLC\n",
              "//\n",
              "// Licensed under the Apache License, Version 2.0 (the \"License\");\n",
              "// you may not use this file except in compliance with the License.\n",
              "// You may obtain a copy of the License at\n",
              "//\n",
              "//      http://www.apache.org/licenses/LICENSE-2.0\n",
              "//\n",
              "// Unless required by applicable law or agreed to in writing, software\n",
              "// distributed under the License is distributed on an \"AS IS\" BASIS,\n",
              "// WITHOUT WARRANTIES OR CONDITIONS OF ANY KIND, either express or implied.\n",
              "// See the License for the specific language governing permissions and\n",
              "// limitations under the License.\n",
              "\n",
              "/**\n",
              " * @fileoverview Helpers for google.colab Python module.\n",
              " */\n",
              "(function(scope) {\n",
              "function span(text, styleAttributes = {}) {\n",
              "  const element = document.createElement('span');\n",
              "  element.textContent = text;\n",
              "  for (const key of Object.keys(styleAttributes)) {\n",
              "    element.style[key] = styleAttributes[key];\n",
              "  }\n",
              "  return element;\n",
              "}\n",
              "\n",
              "// Max number of bytes which will be uploaded at a time.\n",
              "const MAX_PAYLOAD_SIZE = 100 * 1024;\n",
              "\n",
              "function _uploadFiles(inputId, outputId) {\n",
              "  const steps = uploadFilesStep(inputId, outputId);\n",
              "  const outputElement = document.getElementById(outputId);\n",
              "  // Cache steps on the outputElement to make it available for the next call\n",
              "  // to uploadFilesContinue from Python.\n",
              "  outputElement.steps = steps;\n",
              "\n",
              "  return _uploadFilesContinue(outputId);\n",
              "}\n",
              "\n",
              "// This is roughly an async generator (not supported in the browser yet),\n",
              "// where there are multiple asynchronous steps and the Python side is going\n",
              "// to poll for completion of each step.\n",
              "// This uses a Promise to block the python side on completion of each step,\n",
              "// then passes the result of the previous step as the input to the next step.\n",
              "function _uploadFilesContinue(outputId) {\n",
              "  const outputElement = document.getElementById(outputId);\n",
              "  const steps = outputElement.steps;\n",
              "\n",
              "  const next = steps.next(outputElement.lastPromiseValue);\n",
              "  return Promise.resolve(next.value.promise).then((value) => {\n",
              "    // Cache the last promise value to make it available to the next\n",
              "    // step of the generator.\n",
              "    outputElement.lastPromiseValue = value;\n",
              "    return next.value.response;\n",
              "  });\n",
              "}\n",
              "\n",
              "/**\n",
              " * Generator function which is called between each async step of the upload\n",
              " * process.\n",
              " * @param {string} inputId Element ID of the input file picker element.\n",
              " * @param {string} outputId Element ID of the output display.\n",
              " * @return {!Iterable<!Object>} Iterable of next steps.\n",
              " */\n",
              "function* uploadFilesStep(inputId, outputId) {\n",
              "  const inputElement = document.getElementById(inputId);\n",
              "  inputElement.disabled = false;\n",
              "\n",
              "  const outputElement = document.getElementById(outputId);\n",
              "  outputElement.innerHTML = '';\n",
              "\n",
              "  const pickedPromise = new Promise((resolve) => {\n",
              "    inputElement.addEventListener('change', (e) => {\n",
              "      resolve(e.target.files);\n",
              "    });\n",
              "  });\n",
              "\n",
              "  const cancel = document.createElement('button');\n",
              "  inputElement.parentElement.appendChild(cancel);\n",
              "  cancel.textContent = 'Cancel upload';\n",
              "  const cancelPromise = new Promise((resolve) => {\n",
              "    cancel.onclick = () => {\n",
              "      resolve(null);\n",
              "    };\n",
              "  });\n",
              "\n",
              "  // Wait for the user to pick the files.\n",
              "  const files = yield {\n",
              "    promise: Promise.race([pickedPromise, cancelPromise]),\n",
              "    response: {\n",
              "      action: 'starting',\n",
              "    }\n",
              "  };\n",
              "\n",
              "  cancel.remove();\n",
              "\n",
              "  // Disable the input element since further picks are not allowed.\n",
              "  inputElement.disabled = true;\n",
              "\n",
              "  if (!files) {\n",
              "    return {\n",
              "      response: {\n",
              "        action: 'complete',\n",
              "      }\n",
              "    };\n",
              "  }\n",
              "\n",
              "  for (const file of files) {\n",
              "    const li = document.createElement('li');\n",
              "    li.append(span(file.name, {fontWeight: 'bold'}));\n",
              "    li.append(span(\n",
              "        `(${file.type || 'n/a'}) - ${file.size} bytes, ` +\n",
              "        `last modified: ${\n",
              "            file.lastModifiedDate ? file.lastModifiedDate.toLocaleDateString() :\n",
              "                                    'n/a'} - `));\n",
              "    const percent = span('0% done');\n",
              "    li.appendChild(percent);\n",
              "\n",
              "    outputElement.appendChild(li);\n",
              "\n",
              "    const fileDataPromise = new Promise((resolve) => {\n",
              "      const reader = new FileReader();\n",
              "      reader.onload = (e) => {\n",
              "        resolve(e.target.result);\n",
              "      };\n",
              "      reader.readAsArrayBuffer(file);\n",
              "    });\n",
              "    // Wait for the data to be ready.\n",
              "    let fileData = yield {\n",
              "      promise: fileDataPromise,\n",
              "      response: {\n",
              "        action: 'continue',\n",
              "      }\n",
              "    };\n",
              "\n",
              "    // Use a chunked sending to avoid message size limits. See b/62115660.\n",
              "    let position = 0;\n",
              "    do {\n",
              "      const length = Math.min(fileData.byteLength - position, MAX_PAYLOAD_SIZE);\n",
              "      const chunk = new Uint8Array(fileData, position, length);\n",
              "      position += length;\n",
              "\n",
              "      const base64 = btoa(String.fromCharCode.apply(null, chunk));\n",
              "      yield {\n",
              "        response: {\n",
              "          action: 'append',\n",
              "          file: file.name,\n",
              "          data: base64,\n",
              "        },\n",
              "      };\n",
              "\n",
              "      let percentDone = fileData.byteLength === 0 ?\n",
              "          100 :\n",
              "          Math.round((position / fileData.byteLength) * 100);\n",
              "      percent.textContent = `${percentDone}% done`;\n",
              "\n",
              "    } while (position < fileData.byteLength);\n",
              "  }\n",
              "\n",
              "  // All done.\n",
              "  yield {\n",
              "    response: {\n",
              "      action: 'complete',\n",
              "    }\n",
              "  };\n",
              "}\n",
              "\n",
              "scope.google = scope.google || {};\n",
              "scope.google.colab = scope.google.colab || {};\n",
              "scope.google.colab._files = {\n",
              "  _uploadFiles,\n",
              "  _uploadFilesContinue,\n",
              "};\n",
              "})(self);\n",
              "</script> "
            ]
          },
          "metadata": {}
        },
        {
          "output_type": "stream",
          "name": "stdout",
          "text": [
            "Saving shakespeare.txt to shakespeare.txt\n"
          ]
        }
      ],
      "source": [
        "from google.colab import files\n",
        "uploaded = files.upload()\n"
      ]
    },
    {
      "cell_type": "code",
      "source": [
        "import nltk\n",
        "import re\n",
        "from collections import Counter\n",
        "from nltk.tokenize import word_tokenize\n",
        "\n",
        "nltk.download('punkt')"
      ],
      "metadata": {
        "colab": {
          "base_uri": "https://localhost:8080/"
        },
        "id": "9RqFRfTsO0S-",
        "outputId": "edd85bf8-5ff0-4bb4-fa19-410a903c523b"
      },
      "execution_count": 2,
      "outputs": [
        {
          "output_type": "stream",
          "name": "stderr",
          "text": [
            "[nltk_data] Downloading package punkt to /root/nltk_data...\n",
            "[nltk_data]   Unzipping tokenizers/punkt.zip.\n"
          ]
        },
        {
          "output_type": "execute_result",
          "data": {
            "text/plain": [
              "True"
            ]
          },
          "metadata": {},
          "execution_count": 2
        }
      ]
    },
    {
      "cell_type": "code",
      "source": [
        "class preprocess_text:\n",
        "  def __init__(self,text_file,stopword,stoprwords_file=None):\n",
        "    self.text_file = text_file\n",
        "    self.stoprwords_file = stoprwords_file\n",
        "    self.stopwords=stopword\n",
        "\n",
        "  def load_data(self):\n",
        "    with open(self.text_file, 'r') as file:\n",
        "      text = file.read()\n",
        "\n",
        "    if self.stopwords==True:\n",
        "      with open(self.stoprwords_file, 'r') as file:\n",
        "        stopwords = file.read().splitlines()\n",
        "      return text,stopwords\n",
        "    else:\n",
        "      return text\n",
        "\n",
        "  def preprocessing(self):\n",
        "    data=self.load_data()\n",
        "    data=re.sub(r'[,;!?-]','.',data)\n",
        "    data=word_tokenize(data)\n",
        "    data=[ch.lower() for ch in data if ch.isalpha() or ch=='.']\n",
        "    return data\n"
      ],
      "metadata": {
        "id": "3kUuZtHIPPCh"
      },
      "execution_count": 3,
      "outputs": []
    },
    {
      "cell_type": "code",
      "source": [
        "nltk.download('stopwords')"
      ],
      "metadata": {
        "colab": {
          "base_uri": "https://localhost:8080/"
        },
        "id": "esVMM-tYRp7Q",
        "outputId": "aadbcdd6-ad91-4fbb-9c26-8113a7d864c0"
      },
      "execution_count": 4,
      "outputs": [
        {
          "output_type": "stream",
          "name": "stderr",
          "text": [
            "[nltk_data] Downloading package stopwords to /root/nltk_data...\n",
            "[nltk_data]   Unzipping corpora/stopwords.zip.\n"
          ]
        },
        {
          "output_type": "execute_result",
          "data": {
            "text/plain": [
              "True"
            ]
          },
          "metadata": {},
          "execution_count": 4
        }
      ]
    },
    {
      "cell_type": "code",
      "source": [
        "preprocess_txt=preprocess_text(text_file='/content/shakespeare.txt',stopword=False)\n",
        "txt_data=preprocess_txt.preprocessing()"
      ],
      "metadata": {
        "id": "FIXtPx6LP1uH"
      },
      "execution_count": 5,
      "outputs": []
    },
    {
      "cell_type": "code",
      "source": [
        "print(\"Number of token:\",len(txt_data))\n",
        "print(\"first 15 token:\",txt_data[:15])"
      ],
      "metadata": {
        "colab": {
          "base_uri": "https://localhost:8080/"
        },
        "id": "ZHdYpk78RyYX",
        "outputId": "ef33d663-8088-49be-8406-2cd9c9ea5033"
      },
      "execution_count": 6,
      "outputs": [
        {
          "output_type": "stream",
          "name": "stdout",
          "text": [
            "Number of token: 60976\n",
            "first 15 token: ['o', 'for', 'a', 'muse', 'of', 'fire', '.', 'that', 'would', 'ascend', 'the', 'brightest', 'heaven', 'of', 'invention']\n"
          ]
        }
      ]
    },
    {
      "cell_type": "code",
      "source": [
        "fdist=nltk.FreqDist(txt_data)\n",
        "print(\"Number of unique words:\",len(fdist))\n",
        "print(\"Most 20 common words:\",fdist.most_common(20))"
      ],
      "metadata": {
        "colab": {
          "base_uri": "https://localhost:8080/"
        },
        "id": "EL2X_tl2Scpg",
        "outputId": "93aae0ca-c606-4bf3-b47f-77d8fdc96f13"
      },
      "execution_count": 7,
      "outputs": [
        {
          "output_type": "stream",
          "name": "stdout",
          "text": [
            "Number of unique words: 5775\n",
            "Most 20 common words: [('.', 9630), ('the', 1521), ('and', 1394), ('i', 1257), ('to', 1159), ('of', 1093), ('my', 857), ('that', 781), ('in', 770), ('a', 752), ('you', 748), ('is', 630), ('not', 559), ('for', 467), ('it', 460), ('with', 441), ('his', 434), ('but', 417), ('me', 417), ('your', 397)]\n"
          ]
        }
      ]
    },
    {
      "cell_type": "code",
      "source": [
        "import torch\n",
        "from torch.utils.data import DataLoader, Dataset\n",
        "from collections import defaultdict\n",
        "import numpy as np\n",
        "\n",
        "class Word2VecDataset(Dataset):\n",
        "    def __init__(self, data, vocab_size, context_size):\n",
        "        self.data = data\n",
        "        self.vocab_size = vocab_size\n",
        "        self.context_size = context_size\n",
        "        self.word2idx, self.idx2word = self.build_vocab(data)\n",
        "        self.context_target_pairs = self.generate_context_target_pairs()\n",
        "\n",
        "    def build_vocab(self, data):\n",
        "        words = sorted(set(data))\n",
        "        word2idx = {word: idx for idx, word in enumerate(words)}\n",
        "        idx2word = {idx: word for word, idx in word2idx.items()}\n",
        "        return word2idx, idx2word\n",
        "\n",
        "    def generate_context_target_pairs(self):\n",
        "        pairs = []\n",
        "        for i in range(self.context_size, len(self.data) - self.context_size):\n",
        "            target_word = self.data[i]\n",
        "            context_words = (\n",
        "                self.data[i - self.context_size:i] + self.data[i + 1:i + self.context_size + 1]\n",
        "            )\n",
        "            context_vector = np.zeros(self.vocab_size)\n",
        "            for word in context_words:\n",
        "                context_vector[self.word2idx[word]] += 1\n",
        "            context_vector /= len(context_words)\n",
        "\n",
        "            target_vector = np.zeros(self.vocab_size)\n",
        "            target_vector[self.word2idx[target_word]] = 1\n",
        "            pairs.append((torch.tensor(context_vector, dtype=torch.float32),\n",
        "                          torch.tensor(target_vector, dtype=torch.float32)))\n",
        "        return pairs\n",
        "\n",
        "    def __len__(self):\n",
        "        return len(self.context_target_pairs)\n",
        "\n",
        "    def __getitem__(self, idx):\n",
        "        return self.context_target_pairs[idx]\n"
      ],
      "metadata": {
        "id": "HNfoJ-oKS7_p"
      },
      "execution_count": 23,
      "outputs": []
    },
    {
      "cell_type": "code",
      "source": [
        "data=txt_data\n",
        "vocab_size=len(fdist)\n",
        "context_size=2\n",
        "dataset=Word2VecDataset(data,vocab_size,context_size)\n",
        "print(\"Number of pairs:\",len(dataset))\n",
        "print(\"shape:\",dataset[0][0].shape,dataset[0][1].shape)"
      ],
      "metadata": {
        "colab": {
          "base_uri": "https://localhost:8080/"
        },
        "id": "A90eeGbDa8dU",
        "outputId": "3f7c7ece-64ab-4560-abf5-df6c52c59ea5"
      },
      "execution_count": 24,
      "outputs": [
        {
          "output_type": "stream",
          "name": "stdout",
          "text": [
            "Number of pairs: 60972\n",
            "shape: torch.Size([5775]) torch.Size([5775])\n"
          ]
        }
      ]
    },
    {
      "cell_type": "code",
      "source": [
        "dataloader=DataLoader(dataset,batch_size=400,shuffle=True)\n",
        "for x,y in dataloader:\n",
        "  print(x.shape,y.shape)\n",
        "  break"
      ],
      "metadata": {
        "id": "pFhyfZcuTuCV",
        "colab": {
          "base_uri": "https://localhost:8080/"
        },
        "outputId": "3d5f6589-e1e9-48dd-ed4c-169a4dd0edde"
      },
      "execution_count": 25,
      "outputs": [
        {
          "output_type": "stream",
          "name": "stdout",
          "text": [
            "torch.Size([400, 5775]) torch.Size([400, 5775])\n"
          ]
        }
      ]
    },
    {
      "cell_type": "code",
      "source": [
        "import torch\n",
        "import torch.nn as nn\n",
        "import torch.optim as optim\n",
        "\n",
        "class Word2VecModel(nn.Module):\n",
        "    def __init__(self, vocab_size, embedding_dim):\n",
        "        super(Word2VecModel, self).__init__()\n",
        "        self.embedding_layer = nn.Linear(vocab_size, embedding_dim, bias=True)\n",
        "        self.output_layer = nn.Linear(embedding_dim, vocab_size, bias=True)\n",
        "        self.softmax = nn.Softmax(dim=1)\n",
        "        nn.init.uniform_(self.embedding_layer.weight, -0.5, 0.5)\n",
        "        nn.init.uniform_(self.output_layer.weight, -0.5, 0.5)\n",
        "\n",
        "    def forward(self, x):\n",
        "        x = self.embedding_layer(x)\n",
        "        x = self.output_layer(x)\n",
        "        return self.softmax(x)\n",
        "\n",
        "    def get_embeddings(self):\n",
        "        W1 = self.embedding_layer.weight.data.T\n",
        "        W2 = self.output_layer.weight.data\n",
        "        embeddings = (W1 + W2) / 2\n",
        "        return embeddings"
      ],
      "metadata": {
        "id": "ildd5mu1blN0"
      },
      "execution_count": 50,
      "outputs": []
    },
    {
      "cell_type": "code",
      "source": [
        "device=torch.device(\"cuda\" if torch.cuda.is_available() else \"cpu\")\n",
        "print(device)"
      ],
      "metadata": {
        "colab": {
          "base_uri": "https://localhost:8080/"
        },
        "id": "Z3aa1UCRuLmD",
        "outputId": "9246da8b-cf47-4a12-94b4-74dd9cfba5b4"
      },
      "execution_count": 51,
      "outputs": [
        {
          "output_type": "stream",
          "name": "stdout",
          "text": [
            "cuda\n"
          ]
        }
      ]
    },
    {
      "cell_type": "code",
      "source": [
        "def train(model, data_loader, num_epochs, learning_rate, decay_epochs=10, decay_factor=0.9):\n",
        "    criterion = nn.CrossEntropyLoss()\n",
        "    optimizer = optim.Adam(model.parameters(), lr=learning_rate)\n",
        "    scheduler = optim.lr_scheduler.StepLR(optimizer, step_size=decay_epochs, gamma=decay_factor)\n",
        "    model = model.to(device)\n",
        "    losses=[]\n",
        "\n",
        "    for epoch in range(num_epochs):\n",
        "        epoch_loss = 0.0\n",
        "        for x_batch, y_batch in data_loader:\n",
        "            optimizer.zero_grad()\n",
        "            x_batch = x_batch.to(device)\n",
        "            y_batch = y_batch.to(device)\n",
        "\n",
        "            y_pred = model(x_batch)\n",
        "            loss = criterion(y_pred, y_batch)\n",
        "            loss.backward()\n",
        "            nn.utils.clip_grad_norm_(model.parameters(), max_norm=1.0)\n",
        "            optimizer.step()\n",
        "            epoch_loss += loss.item()\n",
        "\n",
        "        scheduler.step()\n",
        "        losses.append(epoch_loss / len(data_loader))\n",
        "        print(f\"Epoch {epoch+1}/{num_epochs}, Loss: {epoch_loss / len(data_loader)}\")\n",
        "\n",
        "    return losses,model\n"
      ],
      "metadata": {
        "id": "XNjjwKbEsBsz"
      },
      "execution_count": 52,
      "outputs": []
    },
    {
      "cell_type": "code",
      "source": [
        "word2vec=Word2VecModel(vocab_size=len(fdist),embedding_dim=50)"
      ],
      "metadata": {
        "id": "8opCS9LIgVGm"
      },
      "execution_count": 53,
      "outputs": []
    },
    {
      "cell_type": "code",
      "source": [
        "losses,trained_model=train(word2vec,dataloader,num_epochs=50,learning_rate=0.01)"
      ],
      "metadata": {
        "colab": {
          "base_uri": "https://localhost:8080/"
        },
        "id": "QcoIWlX4gucb",
        "outputId": "9ed7ab83-09ed-4272-df7a-84bee84b8eae"
      },
      "execution_count": 54,
      "outputs": [
        {
          "output_type": "stream",
          "name": "stdout",
          "text": [
            "Epoch 1/50, Loss: 8.528119679369958\n",
            "Epoch 2/50, Loss: 8.503625103071624\n",
            "Epoch 3/50, Loss: 8.503618776408675\n",
            "Epoch 4/50, Loss: 8.50337136960497\n",
            "Epoch 5/50, Loss: 8.50321931153341\n",
            "Epoch 6/50, Loss: 8.503140985576156\n",
            "Epoch 7/50, Loss: 8.503123227287741\n",
            "Epoch 8/50, Loss: 8.500524745267981\n",
            "Epoch 9/50, Loss: 8.497450267567354\n",
            "Epoch 10/50, Loss: 8.495464225220525\n",
            "Epoch 11/50, Loss: 8.494152455548056\n",
            "Epoch 12/50, Loss: 8.492220124388053\n",
            "Epoch 13/50, Loss: 8.486488211388682\n",
            "Epoch 14/50, Loss: 8.482168415792627\n",
            "Epoch 15/50, Loss: 8.47956016640258\n",
            "Epoch 16/50, Loss: 8.478525485867769\n",
            "Epoch 17/50, Loss: 8.476251309214074\n",
            "Epoch 18/50, Loss: 8.46963614420174\n",
            "Epoch 19/50, Loss: 8.464703541175991\n",
            "Epoch 20/50, Loss: 8.46114818722594\n",
            "Epoch 21/50, Loss: 8.458055764241935\n",
            "Epoch 22/50, Loss: 8.45440640792348\n",
            "Epoch 23/50, Loss: 8.44969453375324\n",
            "Epoch 24/50, Loss: 8.445559189989677\n",
            "Epoch 25/50, Loss: 8.442738370957718\n",
            "Epoch 26/50, Loss: 8.439255745582331\n",
            "Epoch 27/50, Loss: 8.435200286067388\n",
            "Epoch 28/50, Loss: 8.430041674694984\n",
            "Epoch 29/50, Loss: 8.426812919915891\n",
            "Epoch 30/50, Loss: 8.423055075352488\n",
            "Epoch 31/50, Loss: 8.420455415264454\n",
            "Epoch 32/50, Loss: 8.418663635752559\n",
            "Epoch 33/50, Loss: 8.41680359684564\n",
            "Epoch 34/50, Loss: 8.416077052845674\n",
            "Epoch 35/50, Loss: 8.414529981176837\n",
            "Epoch 36/50, Loss: 8.412965624940162\n",
            "Epoch 37/50, Loss: 8.411696645948622\n",
            "Epoch 38/50, Loss: 8.409540263655918\n",
            "Epoch 39/50, Loss: 8.407353407417247\n",
            "Epoch 40/50, Loss: 8.405067225686865\n",
            "Epoch 41/50, Loss: 8.40316272561067\n",
            "Epoch 42/50, Loss: 8.40124850179635\n",
            "Epoch 43/50, Loss: 8.399772170322393\n",
            "Epoch 44/50, Loss: 8.398069225884731\n",
            "Epoch 45/50, Loss: 8.396492690042733\n",
            "Epoch 46/50, Loss: 8.39483286664377\n",
            "Epoch 47/50, Loss: 8.393834643893772\n",
            "Epoch 48/50, Loss: 8.393169558905308\n",
            "Epoch 49/50, Loss: 8.391956697102465\n",
            "Epoch 50/50, Loss: 8.39096276277031\n"
          ]
        }
      ]
    },
    {
      "cell_type": "code",
      "source": [
        "for param in trained_model.parameters():\n",
        "  print(param.shape)"
      ],
      "metadata": {
        "colab": {
          "base_uri": "https://localhost:8080/"
        },
        "id": "FnORl1fmxPop",
        "outputId": "e3e3ffc9-f783-443d-fa35-4b51b37d26f3"
      },
      "execution_count": 55,
      "outputs": [
        {
          "output_type": "stream",
          "name": "stdout",
          "text": [
            "torch.Size([50, 5775])\n",
            "torch.Size([50])\n",
            "torch.Size([5775, 50])\n",
            "torch.Size([5775])\n"
          ]
        }
      ]
    },
    {
      "cell_type": "code",
      "source": [
        "embedding_vector=trained_model.get_embeddings()\n",
        "print(embedding_vector.shape)"
      ],
      "metadata": {
        "colab": {
          "base_uri": "https://localhost:8080/"
        },
        "id": "Hv-WKEllxzVU",
        "outputId": "2611a48b-ef4a-442e-9513-f8ef549e44b6"
      },
      "execution_count": 56,
      "outputs": [
        {
          "output_type": "stream",
          "name": "stdout",
          "text": [
            "torch.Size([5775, 50])\n"
          ]
        }
      ]
    },
    {
      "cell_type": "code",
      "source": [
        "import matplotlib.pyplot as plt\n",
        "plt.plot(losses)\n",
        "plt.xlabel('Iterations')\n",
        "plt.ylabel('Loss')\n",
        "plt.title('Loss vs Iterations')\n",
        "plt.show()\n"
      ],
      "metadata": {
        "id": "_lrYQZlmgzBv",
        "colab": {
          "base_uri": "https://localhost:8080/",
          "height": 472
        },
        "outputId": "9ebc4893-1376-4e15-d0b9-c1df6042e848"
      },
      "execution_count": 57,
      "outputs": [
        {
          "output_type": "display_data",
          "data": {
            "text/plain": [
              "<Figure size 640x480 with 1 Axes>"
            ],
            "image/png": "[encoded data removed]"
          },
          "metadata": {}
        }
      ]
    },
    {
      "cell_type": "code",
      "source": [
        "words = ['king', 'queen','lord','man', 'woman','dog','horse',\n",
        "         'rich','happy','sad']\n",
        "\n",
        "embs = np.array(embedding_vector.cpu())\n",
        "word2idx,idx2word=dataset.build_vocab(data)\n",
        "\n",
        "idxs=[word2idx[word] for word in words]\n",
        "X=embs[idxs,:]\n",
        "print(X.shape,embs.shape)\n",
        "print(\"Indexes:\")\n",
        "print(idxs)"
      ],
      "metadata": {
        "id": "Ab9RwAuJkltB",
        "colab": {
          "base_uri": "https://localhost:8080/"
        },
        "outputId": "5b5e477e-d725-493d-e0e6-673d0faabbc4"
      },
      "execution_count": 61,
      "outputs": [
        {
          "output_type": "stream",
          "name": "stdout",
          "text": [
            "(10, 50) (5775, 50)\n",
            "Indexes:\n",
            "[2744, 3949, 2960, 3022, 5672, 1452, 2471, 4189, 2315, 4276]\n"
          ]
        }
      ]
    },
    {
      "cell_type": "code",
      "source": [
        "from sklearn.decomposition import PCA\n",
        "pca=PCA(n_components=2)\n",
        "pca.fit(X)\n",
        "X=pca.transform(X)\n",
        "print(\"N=50 -> N=2:\")\n",
        "print(X.shape)"
      ],
      "metadata": {
        "id": "91afQ_ZzloMm",
        "colab": {
          "base_uri": "https://localhost:8080/"
        },
        "outputId": "ad448c1c-0fb8-42bc-9499-b9b5fb786446"
      },
      "execution_count": 63,
      "outputs": [
        {
          "output_type": "stream",
          "name": "stdout",
          "text": [
            "N=50 -> N=2:\n",
            "(10, 2)\n"
          ]
        }
      ]
    },
    {
      "cell_type": "code",
      "source": [
        "plt.figure(figsize=(7,7))\n",
        "plt.scatter(X[:,0],X[:,1])\n",
        "\n",
        "for i in range(len(words)):\n",
        "    plt.annotate(words[i], (X[i,0], X[i,1]), fontsize=15)\n",
        "plt.grid()"
      ],
      "metadata": {
        "id": "X-uEzE4ilcsG",
        "colab": {
          "base_uri": "https://localhost:8080/",
          "height": 599
        },
        "outputId": "f792b465-c9d8-4ff3-8b3a-8e74b78b8dee"
      },
      "execution_count": 66,
      "outputs": [
        {
          "output_type": "display_data",
          "data": {
            "text/plain": [
              "<Figure size 700x700 with 1 Axes>"
            ],
            "image/png": "[encoded data removed]"
          },
          "metadata": {}
        }
      ]
    },
    {
      "cell_type": "code",
      "source": [
        "word='king'\n",
        "idx=word2idx[word]\n",
        "print(\"Embedding  Vector of word {} is {}\".format(word,embs[idx]))"
      ],
      "metadata": {
        "id": "824bA7JdmR_y",
        "colab": {
          "base_uri": "https://localhost:8080/"
        },
        "outputId": "84c11401-fda5-4807-bc24-fd7aab19a311"
      },
      "execution_count": 67,
      "outputs": [
        {
          "output_type": "stream",
          "name": "stdout",
          "text": [
            "Embedding  Vector of word king is [-0.76992023 -0.28828883  0.4671859   0.33945966  0.997905   -0.92267734\n",
            " -0.1125244   0.02006489 -0.02011998 -0.6200999  -0.60960436  0.3321667\n",
            " -0.16124342 -0.26498544  0.7329503  -0.6150857   0.5203255  -0.5045514\n",
            "  0.33355933  0.29231066  1.5489553   0.29336977  0.66821027 -0.21840519\n",
            " -0.33599138  0.94886124 -0.19700664  1.5497456  -0.7251493   0.55054\n",
            "  0.45790178 -0.6553656  -0.3540169  -0.7531532  -0.4993543   1.0900422\n",
            " -0.18744054 -1.6474795  -0.24638727 -0.8798275   0.41355678  0.4484946\n",
            "  0.7223591   0.29367924 -0.01614841  0.44223148 -0.33000734  0.35094017\n",
            " -0.95097566  0.57266104]\n"
          ]
        }
      ]
    },
    {
      "cell_type": "code",
      "source": [],
      "metadata": {
        "id": "TJDeN__nzV3i"
      },
      "execution_count": null,
      "outputs": []
    }
  ]
}